{
 "cells": [
  {
   "cell_type": "markdown",
   "metadata": {},
   "source": [
    "### Step 0: Imports and Reading Data\n"
   ]
  },
  {
   "cell_type": "code",
   "execution_count": null,
   "metadata": {},
   "outputs": [],
   "source": [
    "import pandas as pd\n",
    "import numpy as np\n",
    "import matplotlib.pyplot as plt\n",
    "import matplotlib.patches as patches\n",
    "import matplotlib.ticker as mtick\n",
    "import matplotlib.lines as lines\n",
    "import matplotlib.image as mpimg\n",
    "import matplotlib.colors as mcolors\n",
    "import seaborn as sns\n",
    "\n",
    "import warnings\n",
    "warnings.filterwarnings('ignore')"
   ]
  },
  {
   "cell_type": "code",
   "execution_count": null,
   "metadata": {},
   "outputs": [],
   "source": [
    "import kagglehub\n",
    "path = kagglehub.dataset_download(\"karkavelrajaj/amazon-sales-dataset\")\n",
    "print(\"Path to dataset files:\", path)"
   ]
  },
  {
   "cell_type": "code",
   "execution_count": null,
   "metadata": {},
   "outputs": [],
   "source": [
    "dataFrame = pd.read_csv(\"/Users/kaancakir/data/analysis/amazonAnalysis/amazon.csv\")"
   ]
  },
  {
   "cell_type": "markdown",
   "metadata": {},
   "source": [
    "### Step 0.1: Design the Charts"
   ]
  },
  {
   "cell_type": "code",
   "execution_count": null,
   "metadata": {},
   "outputs": [],
   "source": [
    "def chart_styling(ax, fig, title, bars, logo_path='logo.png'):\n",
    "    fig.patch.set_facecolor('#D3D3D3')\n",
    "    ax.set_facecolor('#D3D3D3')\n",
    "\n",
    "    fig.text(0.09, 1.05, title, fontsize=18, fontweight='bold', fontfamily='serif')\n",
    "\n",
    "    logo = mpimg.imread(logo_path)\n",
    "    logo_ax = fig.add_axes([0.85, 0.85, 0.1, 0.1])\n",
    "    logo_ax.imshow(logo)\n",
    "    logo_ax.axis('off')\n",
    "\n",
    "    ax.grid(axis='y', linestyle='-', alpha=0.2)\n",
    "    ax.set_axisbelow(True)\n",
    "\n",
    "    for spine in ['top', 'right', 'left']:\n",
    "        ax.spines[spine].set_visible(False)\n",
    "\n",
    "    ax.tick_params(axis='both', which='major', labelsize=12)\n",
    "\n",
    "    l1 = lines.Line2D([1, 1], [0, 1], transform=fig.transFigure, figure=fig, color='black', lw=0.2)\n",
    "    fig.lines.extend([l1])\n",
    "\n",
    "    for bar in bars:\n",
    "        bar.set_color('#008080') \n",
    "        \n",
    "    for bar in bars:\n",
    "        bar.set_edgecolor('#000000')\n",
    "        bar.set_linewidth(0.5)\n",
    "\n",
    "    ax.set_xticklabels(ax.get_xticklabels(), rotation=90)"
   ]
  },
  {
   "cell_type": "markdown",
   "metadata": {},
   "source": [
    "#### Pie Charts Design"
   ]
  },
  {
   "cell_type": "code",
   "execution_count": null,
   "metadata": {},
   "outputs": [],
   "source": [
    "def pie_chart_styling(values, labels, title, figsize=(18, 10)):\n",
    "    fig, ax = plt.subplots(figsize=figsize)\n",
    "    \n",
    "    # Calculate percentages\n",
    "    total = sum(values)\n",
    "    percentages = [v/total*100 for v in values]\n",
    "    \n",
    "    # Create pie chart\n",
    "    wedges, texts, autotexts = ax.pie(values,\n",
    "                                     labels=labels,\n",
    "                                     autopct='%1.1f%%',\n",
    "                                     startangle=140,\n",
    "                                     colors=['#ff9999','#66b3ff','#99ff99','#ffcc99'])\n",
    "    \n",
    "    # Style the chart\n",
    "    fig.patch.set_facecolor('#f0f0f0')\n",
    "    ax.set_facecolor('#f0f0f0')\n",
    "    \n",
    "    # Add title\n",
    "    fig.text(0.5, 0.95, title, ha='center', fontsize=18, fontweight='bold', fontfamily='serif')\n",
    "    \n",
    "    # Style the text\n",
    "    for autotext in autotexts:\n",
    "        autotext.set_color('black')\n",
    "        autotext.set_fontsize(12)\n",
    "        autotext.set_fontweight('bold')\n",
    "    \n",
    "    # Add legend\n",
    "    ax.legend([f'{l} ({p:.1f}%)' for l, p in zip(labels, percentages)], \n",
    "             loc='center left', \n",
    "             bbox_to_anchor=(1, 0.5), \n",
    "             fontsize=12)\n",
    "    \n",
    "    plt.show()\n"
   ]
  },
  {
   "cell_type": "markdown",
   "metadata": {},
   "source": [
    "### Step 1: Data Understanding\n"
   ]
  },
  {
   "cell_type": "code",
   "execution_count": null,
   "metadata": {},
   "outputs": [],
   "source": [
    "print(dataFrame.shape[0])\n",
    "print(dataFrame.shape[1])"
   ]
  },
  {
   "cell_type": "code",
   "execution_count": null,
   "metadata": {},
   "outputs": [],
   "source": [
    "dataFrame.duplicated().sum()"
   ]
  },
  {
   "cell_type": "code",
   "execution_count": null,
   "metadata": {},
   "outputs": [],
   "source": [
    "dataFrame.isnull().sum()\n"
   ]
  },
  {
   "cell_type": "code",
   "execution_count": null,
   "metadata": {},
   "outputs": [],
   "source": [
    "dataFrame.dtypes"
   ]
  },
  {
   "cell_type": "code",
   "execution_count": null,
   "metadata": {},
   "outputs": [],
   "source": [
    "dataFrame.describe()"
   ]
  },
  {
   "cell_type": "code",
   "execution_count": null,
   "metadata": {},
   "outputs": [],
   "source": [
    "missingData = dataFrame.isnull().sum().sort_values(ascending=False)\n",
    "\n",
    "fig, ax = plt.subplots(figsize=(18, 10))\n",
    "\n",
    "bars = ax.bar(missingData.index, missingData.values)\n",
    "\n",
    "chart_styling(fig= fig, ax = ax, bars= bars, title = \"Missing Values\")\n",
    "\n",
    "plt.show()"
   ]
  },
  {
   "cell_type": "code",
   "execution_count": null,
   "metadata": {},
   "outputs": [],
   "source": [
    "for column in dataFrame.columns:\n",
    "    print(f\"{column} : {len(dataFrame[column].unique())}\")"
   ]
  },
  {
   "cell_type": "markdown",
   "metadata": {},
   "source": [
    "### Step 2: Data Preperation\n"
   ]
  },
  {
   "cell_type": "code",
   "execution_count": null,
   "metadata": {},
   "outputs": [],
   "source": [
    "df = dataFrame[['product_id',\n",
    "               'product_name',\n",
    "               'category',\n",
    "               'discounted_price',\n",
    "               'actual_price',\n",
    "               'discount_percentage',\n",
    "               'rating',\n",
    "               'rating_count',\n",
    "               ]]"
   ]
  },
  {
   "cell_type": "markdown",
   "metadata": {},
   "source": [
    "#### Fill the NULL values with the 0 values."
   ]
  },
  {
   "cell_type": "code",
   "execution_count": null,
   "metadata": {},
   "outputs": [],
   "source": [
    "df['rating_count'] = df['rating_count'].fillna(0)"
   ]
  },
  {
   "cell_type": "markdown",
   "metadata": {},
   "source": [
    "#### Convert Object Values To The Numeric Values"
   ]
  },
  {
   "cell_type": "code",
   "execution_count": null,
   "metadata": {},
   "outputs": [],
   "source": [
    "df['discounted_price'] = pd.to_numeric(df['discounted_price'].str.replace('₹', '').str.replace(',', ''), errors='coerce').fillna(0).astype(int)\n",
    "df['actual_price'] = pd.to_numeric(df['actual_price'].str.replace('₹', '').str.replace(',', ''), errors='coerce').fillna(0).astype(int)\n",
    "df['discount_percentage'] = pd.to_numeric(df['discount_percentage'].str.replace('%', ''), errors='coerce').fillna(0).astype(float)\n",
    "df['rating'] = pd.to_numeric(df['rating'], errors='coerce').fillna(0).astype(float)\n",
    "df['rating_count'] = pd.to_numeric(df['rating_count'].str.replace(',', ''), errors='coerce').fillna(0).astype(int)"
   ]
  },
  {
   "cell_type": "markdown",
   "metadata": {},
   "source": [
    "#### Seperate The Categories For The Later Usage"
   ]
  },
  {
   "cell_type": "code",
   "execution_count": null,
   "metadata": {},
   "outputs": [],
   "source": [
    "categories = dataFrame['category'].str.split('|').explode().unique()\n",
    "print(categories)"
   ]
  },
  {
   "cell_type": "markdown",
   "metadata": {},
   "source": [
    "## Step 3: Features\n"
   ]
  },
  {
   "cell_type": "markdown",
   "metadata": {},
   "source": [
    "#### Count of Orders By Category"
   ]
  },
  {
   "cell_type": "code",
   "execution_count": null,
   "metadata": {},
   "outputs": [],
   "source": [
    "dfExploded = df.assign(category=df['category'].str.split('|')).explode('category')\n",
    "\n",
    "topCategories = dfExploded['category'].value_counts().head(10)\n",
    "\n",
    "fig, ax = plt.subplots(figsize=(18, 10))\n",
    "bars = sns.barplot(x=topCategories.index, y=topCategories.values, ax=ax)\n",
    "\n",
    "chart_styling(ax=ax, fig=fig, title=\"Count of Orders By Category\", bars=bars.patches)\n",
    "\n",
    "plt.show()\n"
   ]
  },
  {
   "cell_type": "markdown",
   "metadata": {},
   "source": [
    "#### Distribution of Ratings"
   ]
  },
  {
   "cell_type": "code",
   "execution_count": null,
   "metadata": {},
   "outputs": [],
   "source": [
    "ratingZeroToOne = df.query('0 < rating < 1').index\n",
    "ratingOneToTwo = df.query('1 <= rating < 2').index\n",
    "ratingTwoToThree = df.query('2 <= rating < 3').index\n",
    "ratingThreeToFour = df.query('3 <= rating < 4').index\n",
    "ratingFourToFive = df.query('4 <= rating <= 5').index\n",
    "\n",
    "values = [len(ratingZeroToOne), len(ratingOneToTwo), len(ratingTwoToThree), \n",
    "          len(ratingThreeToFour), len(ratingFourToFive)]\n",
    "labels = ['0-1', '1-2', '2-3', '3-4', '4-5']\n",
    "\n",
    "pie_chart_styling(values=values, labels=labels, title=\"Distribution of Ratings\")\n",
    "\n"
   ]
  },
  {
   "cell_type": "markdown",
   "metadata": {},
   "source": [
    "#### Distribution Of Discount Percentages"
   ]
  },
  {
   "cell_type": "code",
   "execution_count": null,
   "metadata": {},
   "outputs": [],
   "source": [
    "discountZeroToTwentyFive = df.query('0 < discount_percentage < 25')\n",
    "discountTwentyFiveToFifty = df.query('25 <= discount_percentage < 50')\n",
    "discountFiftyToSeventyFive = df.query('50 <= discount_percentage < 75')\n",
    "discountSeventyFiveToOneHundred = df.query('75 <= discount_percentage <= 100')\n",
    "\n",
    "values = [len(discountZeroToTwentyFive), len(discountTwentyFiveToFifty), \n",
    "          len(discountFiftyToSeventyFive), len(discountSeventyFiveToOneHundred)]\n",
    "labels = ['0-25%', '25-50%', '50-75%', '75-100%']\n",
    "\n",
    "pie_chart_styling(values=values, labels=labels, title=\"Distribution of Discount Percentages\")\n"
   ]
  },
  {
   "cell_type": "markdown",
   "metadata": {},
   "source": [
    "#### Distribution Of Actual Prices"
   ]
  },
  {
   "cell_type": "code",
   "execution_count": null,
   "metadata": {},
   "outputs": [],
   "source": [
    "m = df['actual_price']\n",
    "\n",
    "fig, ax = plt.subplots(figsize=(18, 10))\n",
    "\n",
    "bars = sns.histplot(x= m, ax= ax, bins= 30, kde= True)\n",
    "\n",
    "chart_styling(ax=ax, fig=fig, title=\"Distribution Of Actual Prices\", bars=bars.patches)\n",
    "\n",
    "plt.show()"
   ]
  },
  {
   "cell_type": "code",
   "execution_count": null,
   "metadata": {},
   "outputs": [],
   "source": [
    "numericColumns"
   ]
  }
 ],
 "metadata": {
  "kernelspec": {
   "display_name": "venv",
   "language": "python",
   "name": "python3"
  },
  "language_info": {
   "codemirror_mode": {
    "name": "ipython",
    "version": 3
   },
   "file_extension": ".py",
   "mimetype": "text/x-python",
   "name": "python",
   "nbconvert_exporter": "python",
   "pygments_lexer": "ipython3",
   "version": "3.13.2"
  }
 },
 "nbformat": 4,
 "nbformat_minor": 2
}
